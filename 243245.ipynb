{
  "nbformat": 4,
  "nbformat_minor": 0,
  "metadata": {
    "colab": {
      "provenance": []
    },
    "kernelspec": {
      "name": "python3",
      "display_name": "Python 3"
    },
    "language_info": {
      "name": "python"
    }
  },
  "cells": [
    {
      "cell_type": "code",
      "source": [
        "# Write a python program to check if a given string is a palindrome. A String is considered a palindrome if it reads the same forwards and backwards, ignoring spaces, punctuation, and case differences.\n",
        "# The program should prompt the user to input a string.\n",
        "# It should remove any spaces, punctuation, and ignore case to determine if the string is a palindrome.\n",
        "# Display an appropriate message indicating whether the string is a palindrome.\n",
        "\n",
        "import string\n",
        "\n",
        "def is_palindrome(text):\n",
        "\n",
        "  text = ''.join(char for char in text.lower() if char.isalnum())\n",
        "  return text == text[::-1]\n",
        "\n",
        "user_input = input(\"Enter a string: \")\n",
        "if is_palindrome(user_input):\n",
        "  print(f\"'{user_input}' is a palindrome.\")\n",
        "else:\n",
        "  print(f\"'{user_input}' is not a palindrome.\")\n"
      ],
      "metadata": {
        "colab": {
          "base_uri": "https://localhost:8080/"
        },
        "id": "2EO8ppa7HhKF",
        "outputId": "769d247d-c351-4105-9412-902502821610"
      },
      "execution_count": 20,
      "outputs": [
        {
          "output_type": "stream",
          "name": "stdout",
          "text": [
            "Enter a string: \"madam\"\n",
            "'\"madam\"' is a palindrome.\n"
          ]
        }
      ]
    },
    {
      "cell_type": "code",
      "source": [
        "# Write a python program as you are developing a course registration system for a university. This system needs to handle student IDs, course codes, and grades efficiently.\n",
        "# Create a list to store the IDs of students enrolling in a course. Prompt the user to input 10 Student IDs and store them in a list.\n",
        "# Extend the list of student IDs by adding additional IDs from a new Batch of students (['S101', 'S102', 'S103']) and print the updated list.\n",
        "# Insert new student ID ('105') at the second position in the list of IDs to represent a student who changed their registration. print the updated list.\n",
        "# Pop the last student ID from the list to stimulate a student dropping the course and print the updated list along with the ID that was removed.\n",
        "\n",
        "\n",
        "student_ids = []\n",
        "\n",
        "for _ in range(10):\n",
        "    student_id = input(\"Enter student ID: \")\n",
        "    student_ids.append(student_id)\n",
        "\n",
        "new_batch_ids = ['S101', 'S102', 'S103']\n",
        "student_ids.extend(new_batch_ids)\n",
        "print(\"Updated list of student IDs:\", student_ids)\n",
        "\n",
        "student_ids.insert(1, '105')\n",
        "print(\"Updated list after insertion:\", student_ids)\n",
        "37\n",
        "removed_id = student_ids.pop()\n",
        "print(\"Updated list after removing the last student:\", student_ids)\n",
        "print(\"Removed student ID:\", removed_id)"
      ],
      "metadata": {
        "colab": {
          "base_uri": "https://localhost:8080/"
        },
        "id": "LEdteukjHg4j",
        "outputId": "f8cbc734-6bbd-4728-c169-4d63b3fac7df"
      },
      "execution_count": 12,
      "outputs": [
        {
          "output_type": "stream",
          "name": "stdout",
          "text": [
            "Enter student ID: 1\n",
            "Enter student ID: 2\n",
            "Enter student ID: \n",
            "Enter student ID: 3\n",
            "Enter student ID: 4\n",
            "Enter student ID: 5\n",
            "Enter student ID: 6\n",
            "Enter student ID: 7\n",
            "Enter student ID: 8\n",
            "Enter student ID: 9\n",
            "Updated list of student IDs: ['1', '2', '', '3', '4', '5', '6', '7', '8', '9', 'S101', 'S102', 'S103']\n",
            "Updated list after insertion: ['1', '105', '2', '', '3', '4', '5', '6', '7', '8', '9', 'S101', 'S102', 'S103']\n",
            "Updated list after removing the last student: ['1', '105', '2', '', '3', '4', '5', '6', '7', '8', '9', 'S101', 'S102']\n",
            "Removed student ID: S103\n"
          ]
        }
      ]
    },
    {
      "cell_type": "code",
      "source": [
        "# Write a python program as you are working on a project to analyze employee performance metrics for a company. you have a list of employee Scores: [55, 70, 80, 90, 65, 75, 85, 60, 95, 50], and a tuple of feedback ratings : (5, 4, 3, 2, 1).\n",
        "# Create a new list containing only the scores that are greater than or equal to 75 and print this list to highlight the high performers.\n",
        "# create a new tuple containing list of feedback scores : [2, 4, 3, 5, 1].\n",
        "# consider the feedback as a key and create the dictionary and assign the values as a set .\n",
        "# filter the orignal list of employee scores to include only those scores that are also present in the feedback ratings for example([3, 4, 5] and print the filtered list.\n",
        "# Slice the orignal list of employees scores to get the first five scores and convert the orignal list of employees scores into a tuple and print the resulting tuple.\n",
        "\n",
        "employee_scores = [55, 70, 80, 90, 65, 75, 85, 60, 95, 50]\n",
        "feedback_ratings = (5, 4, 3, 2, 1)\n",
        "\n",
        "high_performers = [score for score in employee_scores if score >= 75]\n",
        "print(\"High Performers:\", high_performers)\n",
        "\n",
        "new_feedback_scores = [2, 4, 3, 5, 1]\n",
        "new_feedback_tuple = tuple(new_feedback_scores)\n",
        "\n",
        "feedback_dict = {}\n",
        "for score in new_feedback_tuple:\n",
        "    if score not in feedback_dict:\n",
        "        feedback_dict[score] = set()\n",
        "    feedback_dict[score].add(score)\n",
        "\n",
        "filtered_scores = [score for score in employee_scores if score in new_feedback_tuple ]\n",
        "print(\"Filtered Scores:\", filtered_scores)\n",
        "\n",
        "first_five_scores = employee_scores[:5]\n",
        "scores_tuple = tuple(employee_scores)\n",
        "\n",
        "print(\"First Five Scores:\", first_five_scores)\n",
        "print(\"Scores Tuple:\", scores_tuple)"
      ],
      "metadata": {
        "colab": {
          "base_uri": "https://localhost:8080/"
        },
        "id": "UB6KRH56PYHz",
        "outputId": "d59c4a14-998a-46ab-9518-d7704453a720"
      },
      "execution_count": 14,
      "outputs": [
        {
          "output_type": "stream",
          "name": "stdout",
          "text": [
            "High Performers: [80, 90, 75, 85, 95]\n",
            "Filtered Scores: []\n",
            "First Five Scores: [55, 70, 80, 90, 65]\n",
            "Scores Tuple: (55, 70, 80, 90, 65, 75, 85, 60, 95, 50)\n"
          ]
        }
      ]
    }
  ]
}